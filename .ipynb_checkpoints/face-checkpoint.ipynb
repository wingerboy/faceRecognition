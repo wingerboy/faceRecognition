{
 "cells": [
  {
   "cell_type": "code",
   "execution_count": 1,
   "metadata": {},
   "outputs": [],
   "source": [
    "import dlib\n",
    "import cv2\n",
    "import matplotlib.pyplot as plt"
   ]
  },
  {
   "cell_type": "code",
   "execution_count": 2,
   "metadata": {},
   "outputs": [],
   "source": [
    "img = cv2.imread('1.jpg')\n",
    "detector = dlib.get_frontal_face_detector()\n",
    "dets = detector(img, 1)"
   ]
  },
  {
   "cell_type": "code",
   "execution_count": 4,
   "metadata": {},
   "outputs": [],
   "source": [
    "for i, d in enumerate(dets):\n",
    "    x1 = d.top() if d.top() > 0 else 0\n",
    "    y1 = d.bottom() if d.bottom() > 0 else 0\n",
    "    x2 = d.left() if d.left() > 0 else 0\n",
    "    y2 = d.right() if d.right() > 0 else 0\n",
    "\n",
    "    face = img[x1:y1,x2:y2]\n",
    "    # 调整图片的对比度与亮度， 对比度与亮度值都取随机数，这样能增加样本的多样性\n",
    "#     face = relight(face, random.uniform(0.5, 1.5), random.randint(-50, 50))\n",
    "\n",
    "    face = cv2.resize(face, (580,580))\n",
    "\n",
    "cv2.imshow('image', face)\n"
   ]
  },
  {
   "cell_type": "code",
   "execution_count": null,
   "metadata": {
    "collapsed": true
   },
   "outputs": [],
   "source": []
  }
 ],
 "metadata": {
  "kernelspec": {
   "display_name": "Python 3",
   "language": "python",
   "name": "python3"
  },
  "language_info": {
   "codemirror_mode": {
    "name": "ipython",
    "version": 3
   },
   "file_extension": ".py",
   "mimetype": "text/x-python",
   "name": "python",
   "nbconvert_exporter": "python",
   "pygments_lexer": "ipython3",
   "version": "3.5.0"
  }
 },
 "nbformat": 4,
 "nbformat_minor": 2
}
